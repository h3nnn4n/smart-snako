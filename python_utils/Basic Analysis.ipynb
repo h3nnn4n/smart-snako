{
 "cells": [
  {
   "cell_type": "code",
   "execution_count": null,
   "id": "restricted-removal",
   "metadata": {},
   "outputs": [],
   "source": [
    "%matplotlib inline\n",
    "import numpy as np\n",
    "import matplotlib.pyplot as plt\n",
    "import pandas as pd\n",
    "import seaborn as sns"
   ]
  },
  {
   "cell_type": "code",
   "execution_count": null,
   "id": "western-publicity",
   "metadata": {},
   "outputs": [],
   "source": [
    "sns.set(rc={'figure.figsize': (14, 8)})\n",
    "sns.set_theme(style=\"ticks\", palette=\"pastel\")"
   ]
  },
  {
   "cell_type": "code",
   "execution_count": null,
   "id": "supported-waterproof",
   "metadata": {},
   "outputs": [],
   "source": [
    "df = pd.read_csv(\"../stats/log.csv\") \n",
    "df.describe()"
   ]
  },
  {
   "cell_type": "code",
   "execution_count": null,
   "id": "aware-writing",
   "metadata": {},
   "outputs": [],
   "source": [
    "fig, axes = plt.subplots(1, 2)\n",
    "\n",
    "sns.boxplot(data=df[[\"cherries_eaten\"]], ax=axes[0])\n",
    "axes[0].set(\n",
    "    title=\"Cherries Eaten\",\n",
    "#     xlabel='Solution Length', \n",
    "    ylabel='Cherries Eaten'\n",
    ")\n",
    "\n",
    "sns.histplot(data=df[[\"cherries_eaten\"]], ax=axes[1])\n",
    "axes[1].set(\n",
    "    title=\"Cherries Eaten\",\n",
    "    xlabel='Cherries Eaten', \n",
    "    ylabel='Count'\n",
    ")\n",
    "\n",
    "sns.despine(offset=10, trim=True)"
   ]
  },
  {
   "cell_type": "code",
   "execution_count": null,
   "id": "facial-chester",
   "metadata": {},
   "outputs": [],
   "source": [
    "data = df[\"cherries_eaten\"]\n",
    "sns.lineplot(x=range(len(data)), y=data)\n",
    "None"
   ]
  },
  {
   "cell_type": "code",
   "execution_count": null,
   "id": "failing-workstation",
   "metadata": {},
   "outputs": [],
   "source": [
    "data = df[\"total_moves\"]\n",
    "sns.lineplot(x=range(len(data)), y=data)\n",
    "None"
   ]
  },
  {
   "cell_type": "code",
   "execution_count": null,
   "id": "everyday-nerve",
   "metadata": {},
   "outputs": [],
   "source": []
  }
 ],
 "metadata": {
  "kernelspec": {
   "display_name": "Python 3",
   "language": "python",
   "name": "python3"
  },
  "language_info": {
   "codemirror_mode": {
    "name": "ipython",
    "version": 3
   },
   "file_extension": ".py",
   "mimetype": "text/x-python",
   "name": "python",
   "nbconvert_exporter": "python",
   "pygments_lexer": "ipython3",
   "version": "3.7.9"
  }
 },
 "nbformat": 4,
 "nbformat_minor": 5
}
