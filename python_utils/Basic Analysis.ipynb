{
 "cells": [
  {
   "cell_type": "code",
   "execution_count": null,
   "id": "restricted-removal",
   "metadata": {},
   "outputs": [],
   "source": [
    "%matplotlib inline\n",
    "import numpy as np\n",
    "import matplotlib.pyplot as plt\n",
    "import pandas as pd\n",
    "import seaborn as sns"
   ]
  },
  {
   "cell_type": "code",
   "execution_count": null,
   "id": "western-publicity",
   "metadata": {},
   "outputs": [],
   "source": [
    "sns.set(rc={'figure.figsize': (14, 8)})\n",
    "sns.set_theme(style=\"ticks\", palette=\"pastel\")"
   ]
  },
  {
   "cell_type": "code",
   "execution_count": null,
   "id": "catholic-conference",
   "metadata": {},
   "outputs": [],
   "source": [
    "df = pd.read_csv(\"../stats/log.csv\") "
   ]
  },
  {
   "cell_type": "code",
   "execution_count": null,
   "id": "mysterious-weekend",
   "metadata": {},
   "outputs": [],
   "source": [
    "agents = sorted(list(set(df[\"agent_name\"])))\n",
    "agents"
   ]
  },
  {
   "cell_type": "code",
   "execution_count": null,
   "id": "signal-disease",
   "metadata": {},
   "outputs": [],
   "source": [
    "agent_name = \"raw_hamilton\"\n",
    "# agent_name = \"manhattan\"\n",
    "# agent_name = \"random\"\n",
    "# agent_name = \"dfs\"\n",
    "agent_name = \"ida_dfs\"\n",
    "\n",
    "df[df[\"agent_name\"] == agent_name].describe()\n",
    "# df.describe()"
   ]
  },
  {
   "cell_type": "code",
   "execution_count": null,
   "id": "aware-writing",
   "metadata": {},
   "outputs": [],
   "source": [
    "plt.yscale('log')\n",
    "ax = sns.boxplot(y=df[\"cherries_eaten\"], x=df[\"agent_name\"])\n",
    "ax.set(\n",
    "    title=\"Cherries Eaten\",\n",
    "    xlabel='Agent Name', \n",
    "    ylabel='Cherries Eaten'\n",
    ")\n",
    "\n",
    "sns.despine(offset=10, trim=True)"
   ]
  },
  {
   "cell_type": "code",
   "execution_count": null,
   "id": "relevant-belgium",
   "metadata": {},
   "outputs": [],
   "source": [
    "plt.yscale('log')\n",
    "ax = sns.boxplot(y=df[\"total_moves\"], x=df[\"agent_name\"])\n",
    "ax.set(\n",
    "    title=\"Total Moves\",\n",
    "    xlabel='Agent Name', \n",
    "    ylabel='Total Moves'\n",
    ")\n",
    "\n",
    "sns.despine(offset=10, trim=True)"
   ]
  },
  {
   "cell_type": "code",
   "execution_count": null,
   "id": "facial-chester",
   "metadata": {},
   "outputs": [],
   "source": [
    "plt.yscale('log')\n",
    "for agent in agents:\n",
    "    data = sorted(df[df[\"agent_name\"] == agent][\"cherries_eaten\"])\n",
    "    sns.lineplot(x=range(len(data)), y=data, label=agent)"
   ]
  },
  {
   "cell_type": "code",
   "execution_count": null,
   "id": "everyday-nerve",
   "metadata": {},
   "outputs": [],
   "source": [
    "plt.yscale('log')\n",
    "for agent in agents:\n",
    "    data = sorted(df[df[\"agent_name\"] == agent][\"total_moves\"])\n",
    "    sns.lineplot(x=range(len(data)), y=data, label=agent)"
   ]
  },
  {
   "cell_type": "code",
   "execution_count": null,
   "id": "delayed-entrance",
   "metadata": {},
   "outputs": [],
   "source": []
  }
 ],
 "metadata": {
  "kernelspec": {
   "display_name": "Python 3",
   "language": "python",
   "name": "python3"
  },
  "language_info": {
   "codemirror_mode": {
    "name": "ipython",
    "version": 3
   },
   "file_extension": ".py",
   "mimetype": "text/x-python",
   "name": "python",
   "nbconvert_exporter": "python",
   "pygments_lexer": "ipython3",
   "version": "3.7.9"
  }
 },
 "nbformat": 4,
 "nbformat_minor": 5
}
